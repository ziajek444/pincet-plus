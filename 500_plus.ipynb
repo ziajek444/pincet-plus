{
 "cells": [
  {
   "cell_type": "code",
   "execution_count": 2,
   "metadata": {},
   "outputs": [],
   "source": [
    "# wzór y(x) = ( y(x-1) + 500 ) * 1.01\n",
    "# y(216) = fundusze od państwa (500 +) lokowane na lokacie 12% w skali roku przez 18 lat (18 * 12 = 216)\n",
    "# 12% w skali roku = 1% miesięcznie = 1.01\n"
   ]
  },
  {
   "cell_type": "code",
   "execution_count": 8,
   "metadata": {},
   "outputs": [],
   "source": [
    "def forward_fun(previous):\n",
    "    return (previous + 500) * 1.01\n",
    "\n",
    "def fun(x):\n",
    "    sum = 0\n",
    "    index = 0\n",
    "    while(index <= x):\n",
    "        sum = forward_fun(sum)\n",
    "        index += 1\n",
    "    return sum\n"
   ]
  },
  {
   "cell_type": "code",
   "execution_count": 15,
   "metadata": {},
   "outputs": [
    {
     "data": {
      "text/plain": [
       "[{0, 505.0},\n",
       " {1, 1015.05},\n",
       " {2, 1530.2005},\n",
       " {12, 6973.710661881115},\n",
       " {24, 14262.8157483703},\n",
       " {100, 87459.02936964498},\n",
       " {200, 322653.49053258635},\n",
       " {215, 382719.61809628544}]"
      ]
     },
     "execution_count": 15,
     "metadata": {},
     "output_type": "execute_result"
    }
   ],
   "source": [
    "# execute\n",
    "# 0 = after first month so 215 is after 216 months\n",
    "ret = [ {x, fun(x)} for x in [0, 1, 2, 12, 24, 100, 200, 215] ]\n",
    "ret"
   ]
  },
  {
   "cell_type": "code",
   "execution_count": 18,
   "metadata": {},
   "outputs": [
    {
     "data": {
      "text/plain": [
       "354.37000925925923"
      ]
     },
     "execution_count": 18,
     "metadata": {},
     "output_type": "execute_result"
    }
   ],
   "source": [
    "# 500+ every month times 216 months with 12% benefit gain is worth: 382719.61\n",
    "percent_gain = (382719.61 / (500*216)) * 100\n",
    "percent_gain\n"
   ]
  },
  {
   "cell_type": "code",
   "execution_count": null,
   "metadata": {},
   "outputs": [],
   "source": [
    "# per 18 years You can have 350% benefit \n",
    "# "
   ]
  }
 ],
 "metadata": {
  "kernelspec": {
   "display_name": "Python 3",
   "language": "python",
   "name": "python3"
  },
  "language_info": {
   "codemirror_mode": {
    "name": "ipython",
    "version": 3
   },
   "file_extension": ".py",
   "mimetype": "text/x-python",
   "name": "python",
   "nbconvert_exporter": "python",
   "pygments_lexer": "ipython3",
   "version": "3.7.6"
  }
 },
 "nbformat": 4,
 "nbformat_minor": 4
}
