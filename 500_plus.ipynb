{
 "cells": [
  {
   "cell_type": "code",
   "execution_count": 2,
   "metadata": {},
   "outputs": [],
   "source": [
    "# wzór y(x) = ( y(x-1) + 500 ) * 1.01\n",
    "# y(216) = fundusze od państwa (500 +) lokowane na lokacie 12% w skali roku przez 18 lat (18 * 12 = 216)\n",
    "# 12% w skali roku = 1% miesięcznie = 1.01\n"
   ]
  },
  {
   "cell_type": "code",
   "execution_count": 69,
   "metadata": {},
   "outputs": [],
   "source": [
    "def forward_fun(previous):\n",
    "    return (previous + 500) * 1.01\n",
    "\n",
    "def fun(x):\n",
    "    Sum = 0\n",
    "    index = 0\n",
    "    while(index <= x):\n",
    "        Sum = forward_fun(Sum)\n",
    "        index += 1\n",
    "    return Sum\n",
    "\n",
    "def recursive_fun(x, previous = 0):\n",
    "    if x == 0:\n",
    "        return previous\n",
    "    else:\n",
    "        Next = (previous + 500) * 1.01\n",
    "        return recursive_fun(x-1, Next)"
   ]
  },
  {
   "cell_type": "code",
   "execution_count": 73,
   "metadata": {},
   "outputs": [
    {
     "name": "stdout",
     "output_type": "stream",
     "text": [
      "[{1, 505.0}, {2, 1015.05}, {1530.2005, 3}, {12, 6404.66402166447}, {24, 13621.599750861684}, {100, 86093.0983857871}, {200, 318958.9015174122}, {216, 382719.61809628544}]\n",
      "[{1, 505.0}, {2, 1015.05}, {1530.2005, 3}, {12, 6404.66402166447}, {24, 13621.599750861684}, {100, 86093.0983857871}, {200, 318958.9015174122}, {216, 382719.61809628544}]\n"
     ]
    }
   ],
   "source": [
    "# execute\n",
    "# 0 = after first month so 215 is after 216 months\n",
    "months = [ 1, 2, 3, 12, 24, 100, 200, 216 ]\n",
    "ret = [ {x, fun(x-1)} for x in months ]  # [ 0, 1, 2, 11, 23, 99, 199, 215 ]\n",
    "# recursive version lets working with accurately months' numbers\n",
    "rec_ret =  [ {x, recursive_fun(x) } for x in months ] \n",
    "print(ret)\n",
    "print(rec_ret)"
   ]
  },
  {
   "cell_type": "code",
   "execution_count": 66,
   "metadata": {},
   "outputs": [
    {
     "data": {
      "text/plain": [
       "354.37000925925923"
      ]
     },
     "execution_count": 66,
     "metadata": {},
     "output_type": "execute_result"
    }
   ],
   "source": [
    "# 500+ every month times 216 months with 12% benefit gain is worth: 382719.61\n",
    "percent_gain = (382719.61 / (500*216)) * 100\n",
    "percent_gain\n"
   ]
  },
  {
   "cell_type": "code",
   "execution_count": 67,
   "metadata": {},
   "outputs": [],
   "source": [
    "# per 18 years You can have 350% benefit \n",
    "# "
   ]
  }
 ],
 "metadata": {
  "kernelspec": {
   "display_name": "Python 3",
   "language": "python",
   "name": "python3"
  },
  "language_info": {
   "codemirror_mode": {
    "name": "ipython",
    "version": 3
   },
   "file_extension": ".py",
   "mimetype": "text/x-python",
   "name": "python",
   "nbconvert_exporter": "python",
   "pygments_lexer": "ipython3",
   "version": "3.7.6"
  }
 },
 "nbformat": 4,
 "nbformat_minor": 4
}
